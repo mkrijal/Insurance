{
 "cells": [
  {
   "cell_type": "markdown",
   "metadata": {},
   "source": [
    "# Insurance Dataset\n"
   ]
  },
  {
   "cell_type": "markdown",
   "metadata": {},
   "source": [
    "Import Pandas and Numpy as libraries"
   ]
  },
  {
   "cell_type": "code",
   "execution_count": 6,
   "metadata": {
    "collapsed": true
   },
   "outputs": [],
   "source": [
    "import pandas as pd\n",
    "import numpy as np"
   ]
  },
  {
   "cell_type": "markdown",
   "metadata": {},
   "source": [
    "Import the dataset"
   ]
  },
  {
   "cell_type": "code",
   "execution_count": 7,
   "metadata": {
    "collapsed": false
   },
   "outputs": [
    {
     "data": {
      "text/html": [
       "<div>\n",
       "<table border=\"1\" class=\"dataframe\">\n",
       "  <thead>\n",
       "    <tr style=\"text-align: right;\">\n",
       "      <th></th>\n",
       "      <th>age</th>\n",
       "      <th>sex</th>\n",
       "      <th>bmi</th>\n",
       "      <th>children</th>\n",
       "      <th>smoker</th>\n",
       "      <th>region</th>\n",
       "      <th>charges</th>\n",
       "    </tr>\n",
       "  </thead>\n",
       "  <tbody>\n",
       "    <tr>\n",
       "      <th>0</th>\n",
       "      <td>19</td>\n",
       "      <td>female</td>\n",
       "      <td>27.900</td>\n",
       "      <td>0</td>\n",
       "      <td>yes</td>\n",
       "      <td>southwest</td>\n",
       "      <td>16884.92400</td>\n",
       "    </tr>\n",
       "    <tr>\n",
       "      <th>1</th>\n",
       "      <td>18</td>\n",
       "      <td>male</td>\n",
       "      <td>33.770</td>\n",
       "      <td>1</td>\n",
       "      <td>no</td>\n",
       "      <td>southeast</td>\n",
       "      <td>1725.55230</td>\n",
       "    </tr>\n",
       "    <tr>\n",
       "      <th>2</th>\n",
       "      <td>28</td>\n",
       "      <td>male</td>\n",
       "      <td>33.000</td>\n",
       "      <td>3</td>\n",
       "      <td>no</td>\n",
       "      <td>southeast</td>\n",
       "      <td>4449.46200</td>\n",
       "    </tr>\n",
       "    <tr>\n",
       "      <th>3</th>\n",
       "      <td>33</td>\n",
       "      <td>male</td>\n",
       "      <td>22.705</td>\n",
       "      <td>0</td>\n",
       "      <td>no</td>\n",
       "      <td>northwest</td>\n",
       "      <td>21984.47061</td>\n",
       "    </tr>\n",
       "    <tr>\n",
       "      <th>4</th>\n",
       "      <td>32</td>\n",
       "      <td>male</td>\n",
       "      <td>28.880</td>\n",
       "      <td>0</td>\n",
       "      <td>no</td>\n",
       "      <td>northwest</td>\n",
       "      <td>3866.85520</td>\n",
       "    </tr>\n",
       "  </tbody>\n",
       "</table>\n",
       "</div>"
      ],
      "text/plain": [
       "   age     sex     bmi  children smoker     region      charges\n",
       "0   19  female  27.900         0    yes  southwest  16884.92400\n",
       "1   18    male  33.770         1     no  southeast   1725.55230\n",
       "2   28    male  33.000         3     no  southeast   4449.46200\n",
       "3   33    male  22.705         0     no  northwest  21984.47061\n",
       "4   32    male  28.880         0     no  northwest   3866.85520"
      ]
     },
     "execution_count": 7,
     "metadata": {},
     "output_type": "execute_result"
    }
   ],
   "source": [
    "insurance = pd.read_csv('C://Users/mkrijal/Desktop/Insurance/insurance.csv')\n",
    "insurance.head()"
   ]
  },
  {
   "cell_type": "markdown",
   "metadata": {},
   "source": [
    "Get information of dataset"
   ]
  },
  {
   "cell_type": "code",
   "execution_count": 8,
   "metadata": {
    "collapsed": false
   },
   "outputs": [
    {
     "name": "stdout",
     "output_type": "stream",
     "text": [
      "<class 'pandas.core.frame.DataFrame'>\n",
      "RangeIndex: 1338 entries, 0 to 1337\n",
      "Data columns (total 7 columns):\n",
      "age         1338 non-null int64\n",
      "sex         1338 non-null object\n",
      "bmi         1338 non-null float64\n",
      "children    1338 non-null int64\n",
      "smoker      1338 non-null object\n",
      "region      1338 non-null object\n",
      "charges     1338 non-null float64\n",
      "dtypes: float64(2), int64(2), object(3)\n",
      "memory usage: 73.2+ KB\n"
     ]
    }
   ],
   "source": [
    "insurance.info()"
   ]
  },
  {
   "cell_type": "markdown",
   "metadata": {},
   "source": [
    "Get total column and rows"
   ]
  },
  {
   "cell_type": "code",
   "execution_count": 9,
   "metadata": {
    "collapsed": false
   },
   "outputs": [
    {
     "data": {
      "text/plain": [
       "7"
      ]
     },
     "execution_count": 9,
     "metadata": {},
     "output_type": "execute_result"
    }
   ],
   "source": [
    "#Total column\n",
    "insurance.shape[1]"
   ]
  },
  {
   "cell_type": "code",
   "execution_count": 4,
   "metadata": {
    "collapsed": false
   },
   "outputs": [
    {
     "data": {
      "text/plain": [
       "1338"
      ]
     },
     "execution_count": 4,
     "metadata": {},
     "output_type": "execute_result"
    }
   ],
   "source": [
    "#Total row\n",
    "insurance.shape[0]"
   ]
  },
  {
   "cell_type": "markdown",
   "metadata": {},
   "source": [
    "Get total insurance client by sex"
   ]
  },
  {
   "cell_type": "code",
   "execution_count": 10,
   "metadata": {
    "collapsed": false
   },
   "outputs": [
    {
     "data": {
      "text/plain": [
       "sex\n",
       "female    662\n",
       "male      676\n",
       "dtype: int64"
      ]
     },
     "execution_count": 10,
     "metadata": {},
     "output_type": "execute_result"
    }
   ],
   "source": [
    "insurance.groupby('sex').size()"
   ]
  },
  {
   "cell_type": "markdown",
   "metadata": {},
   "source": [
    "Get total insurance client by smoker type"
   ]
  },
  {
   "cell_type": "code",
   "execution_count": 11,
   "metadata": {
    "collapsed": false
   },
   "outputs": [
    {
     "data": {
      "text/plain": [
       "smoker\n",
       "no     1064\n",
       "yes     274\n",
       "dtype: int64"
      ]
     },
     "execution_count": 11,
     "metadata": {},
     "output_type": "execute_result"
    }
   ],
   "source": [
    "insurance.groupby('smoker').size()"
   ]
  },
  {
   "cell_type": "markdown",
   "metadata": {},
   "source": [
    "Get total insurance client by region"
   ]
  },
  {
   "cell_type": "code",
   "execution_count": 12,
   "metadata": {
    "collapsed": false
   },
   "outputs": [
    {
     "data": {
      "text/plain": [
       "region\n",
       "northeast    324\n",
       "northwest    325\n",
       "southeast    364\n",
       "southwest    325\n",
       "dtype: int64"
      ]
     },
     "execution_count": 12,
     "metadata": {},
     "output_type": "execute_result"
    }
   ],
   "source": [
    "insurance.groupby('region').size()"
   ]
  },
  {
   "cell_type": "markdown",
   "metadata": {},
   "source": [
    "Get total insurance client by sex, smoker type and region"
   ]
  },
  {
   "cell_type": "code",
   "execution_count": 13,
   "metadata": {
    "collapsed": false
   },
   "outputs": [
    {
     "data": {
      "text/plain": [
       "sex     smoker  region   \n",
       "female  no      northeast    132\n",
       "                northwest    135\n",
       "                southeast    139\n",
       "                southwest    141\n",
       "        yes     northeast     29\n",
       "                northwest     29\n",
       "                southeast     36\n",
       "                southwest     21\n",
       "male    no      northeast    125\n",
       "                northwest    132\n",
       "                southeast    134\n",
       "                southwest    126\n",
       "        yes     northeast     38\n",
       "                northwest     29\n",
       "                southeast     55\n",
       "                southwest     37\n",
       "dtype: int64"
      ]
     },
     "execution_count": 13,
     "metadata": {},
     "output_type": "execute_result"
    }
   ],
   "source": [
    "insurance.groupby([insurance['sex'], insurance['smoker'], insurance['region']]).size()\n"
   ]
  },
  {
   "cell_type": "markdown",
   "metadata": {},
   "source": [
    "The southeast region contain the highest number of smoker with insurance: **55 male** and **36** female. The southwest and northwest region contain the lowest number of smoker with insurance: **37** male (sw) **21** female (sw) and **29** male (ne) and **29** female (ne)."
   ]
  },
  {
   "cell_type": "markdown",
   "metadata": {},
   "source": [
    "Get average insurance charges client by sex, smoker type and region"
   ]
  },
  {
   "cell_type": "code",
   "execution_count": 14,
   "metadata": {
    "collapsed": false
   },
   "outputs": [
    {
     "data": {
      "text/plain": [
       "sex     smoker  region   \n",
       "female  no      northeast     9640.426984\n",
       "                northwest     8786.998679\n",
       "                southeast     8440.205552\n",
       "                southwest     8234.091260\n",
       "        yes     northeast    28032.046398\n",
       "                northwest    29670.824946\n",
       "                southeast    33034.820716\n",
       "                southwest    31687.988430\n",
       "male    no      northeast     8664.042222\n",
       "                northwest     8320.689321\n",
       "                southeast     7609.003587\n",
       "                southwest     7778.905534\n",
       "        yes     northeast    30926.252583\n",
       "                northwest    30713.181419\n",
       "                southeast    36029.839367\n",
       "                southwest    32598.862854\n",
       "Name: charges, dtype: float64"
      ]
     },
     "execution_count": 14,
     "metadata": {},
     "output_type": "execute_result"
    }
   ],
   "source": [
    "insurance['charges'].groupby([insurance['sex'], insurance['smoker'], insurance['region']]).mean()"
   ]
  },
  {
   "cell_type": "markdown",
   "metadata": {},
   "source": [
    "The average charges list show, smoker spend more for their insurance. Furthermore, male smoker spend more than female smoker."
   ]
  },
  {
   "cell_type": "markdown",
   "metadata": {},
   "source": [
    "Then,get the max and min charges"
   ]
  },
  {
   "cell_type": "code",
   "execution_count": 15,
   "metadata": {
    "collapsed": true
   },
   "outputs": [],
   "source": [
    "#function min and max\n",
    "def get_stats(group):\n",
    "    return {'min': group.min(), 'max': group.max()}"
   ]
  },
  {
   "cell_type": "code",
   "execution_count": 16,
   "metadata": {
    "collapsed": false
   },
   "outputs": [
    {
     "data": {
      "text/plain": [
       "sex     smoker  region        \n",
       "female  no      northeast  max    31620.00106\n",
       "                           min     2196.47320\n",
       "                northwest  max    33471.97189\n",
       "                           min     2117.33885\n",
       "                southeast  max    36580.28216\n",
       "                           min     1607.51010\n",
       "                southwest  max    36910.60803\n",
       "                           min     1727.78500\n",
       "        yes     northeast  max    58571.07448\n",
       "                           min    14283.45940\n",
       "                northwest  max    55135.40209\n",
       "                           min    14711.74380\n",
       "                southeast  max    63770.42801\n",
       "                           min    16577.77950\n",
       "                southwest  max    48824.45000\n",
       "                           min    13844.50600\n",
       "male    no      northeast  max    32108.66282\n",
       "                           min     1694.79640\n",
       "                northwest  max    30284.64294\n",
       "                           min     1621.34020\n",
       "                southeast  max    27724.28875\n",
       "                           min     1121.87390\n",
       "                southwest  max    27941.28758\n",
       "                           min     1241.56500\n",
       "        yes     northeast  max    48549.17835\n",
       "                           min    12829.45510\n",
       "                northwest  max    60021.39897\n",
       "                           min    15817.98570\n",
       "                southeast  max    62592.87309\n",
       "                           min    17043.34140\n",
       "                southwest  max    52590.82939\n",
       "                           min    15820.69900\n",
       "Name: charges, dtype: float64"
      ]
     },
     "execution_count": 16,
     "metadata": {},
     "output_type": "execute_result"
    }
   ],
   "source": [
    "insurance['charges'].groupby([insurance['sex'], insurance['smoker'], insurance['region']]).apply(get_stats)"
   ]
  },
  {
   "cell_type": "markdown",
   "metadata": {},
   "source": [
    "The highest chargest is from male smoker in southeast region with **62592.87**USD. \n",
    "The lowest charges is from non smoker male from southeast region with **1121.87** USD."
   ]
  },
  {
   "cell_type": "markdown",
   "metadata": {},
   "source": [
    "Select male smoker from southeast region "
   ]
  },
  {
   "cell_type": "code",
   "execution_count": 17,
   "metadata": {
    "collapsed": false
   },
   "outputs": [
    {
     "data": {
      "text/html": [
       "<div>\n",
       "<table border=\"1\" class=\"dataframe\">\n",
       "  <thead>\n",
       "    <tr style=\"text-align: right;\">\n",
       "      <th></th>\n",
       "      <th>age</th>\n",
       "      <th>sex</th>\n",
       "      <th>bmi</th>\n",
       "      <th>children</th>\n",
       "      <th>smoker</th>\n",
       "      <th>region</th>\n",
       "      <th>charges</th>\n",
       "    </tr>\n",
       "  </thead>\n",
       "  <tbody>\n",
       "    <tr>\n",
       "      <th>14</th>\n",
       "      <td>27</td>\n",
       "      <td>male</td>\n",
       "      <td>42.13</td>\n",
       "      <td>0</td>\n",
       "      <td>yes</td>\n",
       "      <td>southeast</td>\n",
       "      <td>39611.7577</td>\n",
       "    </tr>\n",
       "    <tr>\n",
       "      <th>49</th>\n",
       "      <td>36</td>\n",
       "      <td>male</td>\n",
       "      <td>35.20</td>\n",
       "      <td>1</td>\n",
       "      <td>yes</td>\n",
       "      <td>southeast</td>\n",
       "      <td>38709.1760</td>\n",
       "    </tr>\n",
       "    <tr>\n",
       "      <th>53</th>\n",
       "      <td>36</td>\n",
       "      <td>male</td>\n",
       "      <td>34.43</td>\n",
       "      <td>0</td>\n",
       "      <td>yes</td>\n",
       "      <td>southeast</td>\n",
       "      <td>37742.5757</td>\n",
       "    </tr>\n",
       "    <tr>\n",
       "      <th>57</th>\n",
       "      <td>18</td>\n",
       "      <td>male</td>\n",
       "      <td>31.68</td>\n",
       "      <td>2</td>\n",
       "      <td>yes</td>\n",
       "      <td>southeast</td>\n",
       "      <td>34303.1672</td>\n",
       "    </tr>\n",
       "    <tr>\n",
       "      <th>69</th>\n",
       "      <td>28</td>\n",
       "      <td>male</td>\n",
       "      <td>23.98</td>\n",
       "      <td>3</td>\n",
       "      <td>yes</td>\n",
       "      <td>southeast</td>\n",
       "      <td>17663.1442</td>\n",
       "    </tr>\n",
       "  </tbody>\n",
       "</table>\n",
       "</div>"
      ],
      "text/plain": [
       "    age   sex    bmi  children smoker     region     charges\n",
       "14   27  male  42.13         0    yes  southeast  39611.7577\n",
       "49   36  male  35.20         1    yes  southeast  38709.1760\n",
       "53   36  male  34.43         0    yes  southeast  37742.5757\n",
       "57   18  male  31.68         2    yes  southeast  34303.1672\n",
       "69   28  male  23.98         3    yes  southeast  17663.1442"
      ]
     },
     "execution_count": 17,
     "metadata": {},
     "output_type": "execute_result"
    }
   ],
   "source": [
    "malesmoker_se = insurance[(insurance['sex']=='male') & (insurance['smoker']=='yes') & (insurance['region']=='southeast')]\n",
    "malesmoker_se.head()"
   ]
  },
  {
   "cell_type": "code",
   "execution_count": 18,
   "metadata": {
    "collapsed": false
   },
   "outputs": [
    {
     "name": "stdout",
     "output_type": "stream",
     "text": [
      "<class 'pandas.core.frame.DataFrame'>\n",
      "Int64Index: 55 entries, 14 to 1300\n",
      "Data columns (total 4 columns):\n",
      "age         55 non-null int64\n",
      "bmi         55 non-null float64\n",
      "children    55 non-null int64\n",
      "charges     55 non-null float64\n",
      "dtypes: float64(2), int64(2)\n",
      "memory usage: 2.1 KB\n"
     ]
    }
   ],
   "source": [
    "#narrow the dataset by selecting column age, bmi, children and charges\n",
    "malesmoker_se_num_only = malesmoker_se[['age','bmi','children','charges']]\n",
    "malesmoker_se_num_only.info()"
   ]
  },
  {
   "cell_type": "markdown",
   "metadata": {},
   "source": [
    "Create a graph based on malesmoker_se_num_only data"
   ]
  },
  {
   "cell_type": "code",
   "execution_count": 19,
   "metadata": {
    "collapsed": true
   },
   "outputs": [],
   "source": [
    "import matplotlib.pyplot as plt"
   ]
  },
  {
   "cell_type": "code",
   "execution_count": 20,
   "metadata": {
    "collapsed": false
   },
   "outputs": [
    {
     "data": {
      "image/png": "[encoded data removed]",
      "text/plain": [
       "<matplotlib.figure.Figure at 0x19de40aed68>"
      ]
     },
     "metadata": {},
     "output_type": "display_data"
    }
   ],
   "source": [
    "dataint = malesmoker_se_num_only[['age','bmi','children','charges']]\n",
    "dataint.hist()\n",
    "plt.show();"
   ]
  },
  {
   "cell_type": "markdown",
   "metadata": {},
   "source": [
    "Check the correlation among all attributes"
   ]
  },
  {
   "cell_type": "code",
   "execution_count": 21,
   "metadata": {
    "collapsed": false
   },
   "outputs": [
    {
     "data": {
      "text/html": [
       "<div>\n",
       "<table border=\"1\" class=\"dataframe\">\n",
       "  <thead>\n",
       "    <tr style=\"text-align: right;\">\n",
       "      <th></th>\n",
       "      <th>age</th>\n",
       "      <th>bmi</th>\n",
       "      <th>children</th>\n",
       "      <th>charges</th>\n",
       "    </tr>\n",
       "  </thead>\n",
       "  <tbody>\n",
       "    <tr>\n",
       "      <th>age</th>\n",
       "      <td>1.000000</td>\n",
       "      <td>-0.096353</td>\n",
       "      <td>0.002546</td>\n",
       "      <td>0.324185</td>\n",
       "    </tr>\n",
       "    <tr>\n",
       "      <th>bmi</th>\n",
       "      <td>-0.096353</td>\n",
       "      <td>1.000000</td>\n",
       "      <td>0.081277</td>\n",
       "      <td>0.745684</td>\n",
       "    </tr>\n",
       "    <tr>\n",
       "      <th>children</th>\n",
       "      <td>0.002546</td>\n",
       "      <td>0.081277</td>\n",
       "      <td>1.000000</td>\n",
       "      <td>0.061112</td>\n",
       "    </tr>\n",
       "    <tr>\n",
       "      <th>charges</th>\n",
       "      <td>0.324185</td>\n",
       "      <td>0.745684</td>\n",
       "      <td>0.061112</td>\n",
       "      <td>1.000000</td>\n",
       "    </tr>\n",
       "  </tbody>\n",
       "</table>\n",
       "</div>"
      ],
      "text/plain": [
       "               age       bmi  children   charges\n",
       "age       1.000000 -0.096353  0.002546  0.324185\n",
       "bmi      -0.096353  1.000000  0.081277  0.745684\n",
       "children  0.002546  0.081277  1.000000  0.061112\n",
       "charges   0.324185  0.745684  0.061112  1.000000"
      ]
     },
     "execution_count": 21,
     "metadata": {},
     "output_type": "execute_result"
    }
   ],
   "source": [
    "malesmoker_se_num_only.corr()"
   ]
  },
  {
   "cell_type": "code",
   "execution_count": 22,
   "metadata": {
    "collapsed": true
   },
   "outputs": [],
   "source": [
    "import seaborn as sns"
   ]
  },
  {
   "cell_type": "code",
   "execution_count": 28,
   "metadata": {
    "collapsed": false
   },
   "outputs": [
    {
     "data": {
      "text/plain": [
       "<matplotlib.axes._subplots.AxesSubplot at 0x19de5f839e8>"
      ]
     },
     "execution_count": 28,
     "metadata": {},
     "output_type": "execute_result"
    },
    {
     "data": {
      "image/png": "[encoded data removed]",
      "text/plain": [
       "<matplotlib.figure.Figure at 0x19de49ddb00>"
      ]
     },
     "metadata": {},
     "output_type": "display_data"
    }
   ],
   "source": [
    "sns.heatmap(malesmoker_se_num_only.corr(), annot=True, cmap='viridis')"
   ]
  },
  {
   "cell_type": "markdown",
   "metadata": {},
   "source": [
    "Based on the table above, it shows the strongest correlation is between bmi and charges"
   ]
  },
  {
   "cell_type": "markdown",
   "metadata": {},
   "source": [
    "Create a scatter plot"
   ]
  },
  {
   "cell_type": "code",
   "execution_count": 24,
   "metadata": {
    "collapsed": true
   },
   "outputs": [],
   "source": [
    "%matplotlib inline\n",
    "plt.rcParams['figure.figsize'] = (15, 10)\n",
    "plt.rcParams['font.size'] = 14"
   ]
  },
  {
   "cell_type": "code",
   "execution_count": 25,
   "metadata": {
    "collapsed": false
   },
   "outputs": [
    {
     "data": {
      "text/plain": [
       "<matplotlib.axes._subplots.AxesSubplot at 0x19de461c1d0>"
      ]
     },
     "execution_count": 25,
     "metadata": {},
     "output_type": "execute_result"
    },
    {
     "data": {
      "image/png": "[encoded data removed]",
      "text/plain": [
       "<matplotlib.figure.Figure at 0x19de4096908>"
      ]
     },
     "metadata": {},
     "output_type": "display_data"
    }
   ],
   "source": [
    "# Pandas scatter plot\n",
    "malesmoker_se_num_only.plot(kind='scatter', x='bmi', y='charges', alpha=0.5)"
   ]
  },
  {
   "cell_type": "code",
   "execution_count": 26,
   "metadata": {
    "collapsed": false
   },
   "outputs": [
    {
     "data": {
      "text/plain": [
       "<seaborn.axisgrid.FacetGrid at 0x19de464dcc0>"
      ]
     },
     "execution_count": 26,
     "metadata": {},
     "output_type": "execute_result"
    },
    {
     "data": {
      "image/png": "[encoded data removed]",
      "text/plain": [
       "<matplotlib.figure.Figure at 0x19de464dc88>"
      ]
     },
     "metadata": {},
     "output_type": "display_data"
    }
   ],
   "source": [
    "# Seaborn scatter plot with regression line\n",
    "sns.lmplot(x='bmi', y='charges', data=malesmoker_se_num_only, aspect=2, scatter_kws={'alpha':0.2})"
   ]
  },
  {
   "cell_type": "markdown",
   "metadata": {},
   "source": [
    "Create a linear regression model"
   ]
  },
  {
   "cell_type": "code",
   "execution_count": 44,
   "metadata": {
    "collapsed": true
   },
   "outputs": [],
   "source": [
    "# create X and y\n",
    "feature_cols = ['bmi']\n",
    "X = malesmoker_se_num_only[feature_cols]\n",
    "Y = malesmoker_se_num_only.charges"
   ]
  },
  {
   "cell_type": "code",
   "execution_count": 45,
   "metadata": {
    "collapsed": false
   },
   "outputs": [
    {
     "data": {
      "text/plain": [
       "LinearRegression(copy_X=True, fit_intercept=True, n_jobs=1, normalize=False)"
      ]
     },
     "execution_count": 45,
     "metadata": {},
     "output_type": "execute_result"
    }
   ],
   "source": [
    "# import, instantiate, fit\n",
    "from sklearn.linear_model import LinearRegression\n",
    "linreg = LinearRegression()\n",
    "linreg.fit(X, Y)"
   ]
  },
  {
   "cell_type": "code",
   "execution_count": 46,
   "metadata": {
    "collapsed": false
   },
   "outputs": [
    {
     "name": "stdout",
     "output_type": "stream",
     "text": [
      "-2994.130852\n",
      "[ 1159.70193814]\n"
     ]
    }
   ],
   "source": [
    "# print the coefficients\n",
    "print (linreg.intercept_)\n",
    "print (linreg.coef_)"
   ]
  },
  {
   "cell_type": "markdown",
   "metadata": {},
   "source": [
    "A \"unit\" increase in BMI is associated with a 1159.7019 \"unit\" increase in Charges"
   ]
  },
  {
   "cell_type": "markdown",
   "metadata": {},
   "source": [
    "Predict if bmi = 33.5"
   ]
  },
  {
   "cell_type": "code",
   "execution_count": 47,
   "metadata": {
    "collapsed": false
   },
   "outputs": [
    {
     "data": {
      "text/plain": [
       "array([ 35855.88407582])"
      ]
     },
     "execution_count": 47,
     "metadata": {},
     "output_type": "execute_result"
    }
   ],
   "source": [
    "# manually calculate the prediction\n",
    "linreg.intercept_ + linreg.coef_* 33.5"
   ]
  },
  {
   "cell_type": "code",
   "execution_count": 48,
   "metadata": {
    "collapsed": false
   },
   "outputs": [
    {
     "data": {
      "text/plain": [
       "array([ 35855.88407582])"
      ]
     },
     "execution_count": 48,
     "metadata": {},
     "output_type": "execute_result"
    }
   ],
   "source": [
    "# use the predict method\n",
    "linreg.predict(33.5)"
   ]
  },
  {
   "cell_type": "markdown",
   "metadata": {},
   "source": [
    "BMI = 33.5 will likely charge client for 35855.8840"
   ]
  },
  {
   "cell_type": "code",
   "execution_count": 49,
   "metadata": {
    "collapsed": false
   },
   "outputs": [
    {
     "name": "stdout",
     "output_type": "stream",
     "text": [
      "Coefficients: \n",
      " [ 1322.46463818]\n",
      "Mean squared error: 91657653.78\n",
      "Variance score: 0.24\n"
     ]
    },
    {
     "data": {
      "image/png": "[encoded data removed]",
      "text/plain": [
       "<matplotlib.figure.Figure at 0x1b061f833c8>"
      ]
     },
     "metadata": {},
     "output_type": "display_data"
    }
   ],
   "source": [
    "#Build linear regression model for training and testing set\n",
    "\n",
    "from sklearn import linear_model\n",
    "\n",
    "malesmoker_se_num_only_X = malesmoker_se_num_only.bmi[:, np.newaxis]\n",
    "\n",
    "malesmoker_se_num_only_X_train = malesmoker_se_num_only_X[:-20] #training set\n",
    "malesmoker_se_num_only_X_test = malesmoker_se_num_only_X[-20:]  #testing set\n",
    "\n",
    "malesmoker_se_num_only_y_train = malesmoker_se_num_only.charges[:-20]  #training set\n",
    "malesmoker_se_num_only_y_test = malesmoker_se_num_only.charges[-20:]   #testing set\n",
    "\n",
    "regr = linear_model.LinearRegression()\n",
    "\n",
    "regr.fit(malesmoker_se_num_only_X_train, malesmoker_se_num_only_y_train)\n",
    "\n",
    "print('Coefficients: \\n', regr.coef_)\n",
    "\n",
    "print ('Mean squared error: %.2f' % np.mean((regr.predict(malesmoker_se_num_only_X_test) - malesmoker_se_num_only_y_test) ** 2))\n",
    "\n",
    "print('Variance score: %.2f' % regr.score(malesmoker_se_num_only_X_test, malesmoker_se_num_only_y_test))\n",
    "\n",
    "\n",
    "plt.scatter(malesmoker_se_num_only_X_test, malesmoker_se_num_only_y_test, color='black')\n",
    "plt.plot(malesmoker_se_num_only_X_test, regr.predict(malesmoker_se_num_only_X_test), color='blue', linewidth=3)\n",
    "plt.show()"
   ]
  },
  {
   "cell_type": "markdown",
   "metadata": {},
   "source": [
    "## Comparing models with train/test split and RMSE"
   ]
  },
  {
   "cell_type": "markdown",
   "metadata": {},
   "source": [
    "Root Mean Squared Error (RMSE) is the square root of the mean of the squared errors"
   ]
  },
  {
   "cell_type": "code",
   "execution_count": 50,
   "metadata": {
    "collapsed": false
   },
   "outputs": [
    {
     "name": "stderr",
     "output_type": "stream",
     "text": [
      "C:\\Users\\mkrijal\\Anaconda3\\lib\\site-packages\\sklearn\\cross_validation.py:44: DeprecationWarning: This module was deprecated in version 0.18 in favor of the model_selection module into which all the refactored classes and functions are moved. Also note that the interface of the new CV iterators are different from that of this module. This module will be removed in 0.20.\n",
      "  \"This module will be removed in 0.20.\", DeprecationWarning)\n"
     ]
    }
   ],
   "source": [
    "from sklearn.cross_validation import train_test_split\n",
    "from sklearn import metrics"
   ]
  },
  {
   "cell_type": "code",
   "execution_count": 51,
   "metadata": {
    "collapsed": true
   },
   "outputs": [],
   "source": [
    "# define a function that accepts a list of features and returns testing RMSE\n",
    "def train_test_rmse(feature_cols):\n",
    "    X = malesmoker_se_num_only[feature_cols]\n",
    "    y = malesmoker_se_num_only.charges\n",
    "    X_train, X_test, y_train, y_test = train_test_split(X, y, random_state=123)\n",
    "    linreg = LinearRegression()\n",
    "    linreg.fit(X_train, y_train)\n",
    "    y_pred = linreg.predict(X_test)\n",
    "    return np.sqrt(metrics.mean_squared_error(y_test, y_pred))"
   ]
  },
  {
   "cell_type": "code",
   "execution_count": 52,
   "metadata": {
    "collapsed": false
   },
   "outputs": [
    {
     "data": {
      "text/plain": [
       "7364.1550054803911"
      ]
     },
     "execution_count": 52,
     "metadata": {},
     "output_type": "execute_result"
    }
   ],
   "source": [
    "train_test_rmse(['bmi'])"
   ]
  },
  {
   "cell_type": "markdown",
   "metadata": {},
   "source": [
    "## Comparing testing RMSE with null RMSE\n",
    "\n",
    "Null RMSE is the RMSE that could be achieved by **always predicting the mean response value**. It is a benchmark against which you may want to measure your regression model."
   ]
  },
  {
   "cell_type": "code",
   "execution_count": 53,
   "metadata": {
    "collapsed": false
   },
   "outputs": [
    {
     "data": {
      "text/plain": [
       "array([ 36155.77015714,  36155.77015714,  36155.77015714,  36155.77015714,\n",
       "        36155.77015714,  36155.77015714,  36155.77015714,  36155.77015714,\n",
       "        36155.77015714,  36155.77015714,  36155.77015714,  36155.77015714,\n",
       "        36155.77015714,  36155.77015714])"
      ]
     },
     "execution_count": 53,
     "metadata": {},
     "output_type": "execute_result"
    }
   ],
   "source": [
    "# split X and y into training and testing sets\n",
    "X_train, X_test, y_train, y_test = train_test_split(X, Y, random_state=123)\n",
    "\n",
    "# create a NumPy array with the same shape as y_test\n",
    "y_null = np.zeros_like(y_test, dtype=float)\n",
    "\n",
    "# fill the array with the mean value of y_test\n",
    "y_null.fill(y_test.mean())\n",
    "y_null"
   ]
  },
  {
   "cell_type": "code",
   "execution_count": 54,
   "metadata": {
    "collapsed": false
   },
   "outputs": [
    {
     "data": {
      "text/plain": [
       "11818.093886279714"
      ]
     },
     "execution_count": 54,
     "metadata": {},
     "output_type": "execute_result"
    }
   ],
   "source": [
    "# compute null RMSE\n",
    "np.sqrt(metrics.mean_squared_error(y_test, y_null))"
   ]
  },
  {
   "cell_type": "markdown",
   "metadata": {},
   "source": [
    "In my opinion, the model is OK to predict the amount of charges by male smoker in southeast region based on BMI data but it should be noted that the highest charge in the southeast region is not fully related to BMI data. Nevertheless, further testing with data from other region and gender might be helpful for comparison."
   ]
  },
  {
   "cell_type": "code",
   "execution_count": null,
   "metadata": {
    "collapsed": true
   },
   "outputs": [],
   "source": []
  }
 ],
 "metadata": {
  "kernelspec": {
   "display_name": "Python 3",
   "language": "python",
   "name": "python3"
  },
  "language_info": {
   "codemirror_mode": {
    "name": "ipython",
    "version": 3
   },
   "file_extension": ".py",
   "mimetype": "text/x-python",
   "name": "python",
   "nbconvert_exporter": "python",
   "pygments_lexer": "ipython3",
   "version": "3.6.0"
  }
 },
 "nbformat": 4,
 "nbformat_minor": 2
}
